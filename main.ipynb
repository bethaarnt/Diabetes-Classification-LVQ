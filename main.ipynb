{
 "cells": [
  {
   "cell_type": "markdown",
   "id": "ee00725b",
   "metadata": {
    "papermill": {
     "duration": 0.005719,
     "end_time": "2022-10-21T15:37:10.298857",
     "exception": false,
     "start_time": "2022-10-21T15:37:10.293138",
     "status": "completed"
    },
    "tags": []
   },
   "source": [
    "## Importing Libraries"
   ]
  },
  {
   "cell_type": "code",
   "execution_count": 1,
   "id": "f06175aa",
   "metadata": {
    "_cell_guid": "b1076dfc-b9ad-4769-8c92-a6c4dae69d19",
    "_uuid": "8f2839f25d086af736a60e9eeb907d3b93b6e0e5",
    "execution": {
     "iopub.execute_input": "2022-10-21T15:37:10.311103Z",
     "iopub.status.busy": "2022-10-21T15:37:10.310724Z",
     "iopub.status.idle": "2022-10-21T15:37:11.275045Z",
     "shell.execute_reply": "2022-10-21T15:37:11.273679Z"
    },
    "papermill": {
     "duration": 0.97295,
     "end_time": "2022-10-21T15:37:11.277086",
     "exception": false,
     "start_time": "2022-10-21T15:37:10.304136",
     "status": "completed"
    },
    "tags": []
   },
   "outputs": [],
   "source": [
    "import numpy as np \n",
    "import pandas as pd \n",
    "import seaborn as sns\n",
    "from sklearn.preprocessing import MinMaxScaler\n",
    "from sklearn.model_selection import train_test_split\n",
    "from sklearn.metrics import confusion_matrix, accuracy_score, classification_report\n",
    "import os"
   ]
  },
  {
   "cell_type": "markdown",
   "id": "dbd9ef59",
   "metadata": {
    "papermill": {
     "duration": 0.004937,
     "end_time": "2022-10-21T15:37:11.287499",
     "exception": false,
     "start_time": "2022-10-21T15:37:11.282562",
     "status": "completed"
    },
    "tags": []
   },
   "source": [
    "## Data Preperation"
   ]
  },
  {
   "cell_type": "code",
   "execution_count": 2,
   "id": "bad0b6b9",
   "metadata": {
    "execution": {
     "iopub.execute_input": "2022-10-21T15:37:11.299119Z",
     "iopub.status.busy": "2022-10-21T15:37:11.298424Z",
     "iopub.status.idle": "2022-10-21T15:37:11.331338Z",
     "shell.execute_reply": "2022-10-21T15:37:11.330456Z"
    },
    "papermill": {
     "duration": 0.040635,
     "end_time": "2022-10-21T15:37:11.333073",
     "exception": false,
     "start_time": "2022-10-21T15:37:11.292438",
     "status": "completed"
    },
    "tags": []
   },
   "outputs": [
    {
     "data": {
      "text/html": [
       "<div>\n",
       "<style scoped>\n",
       "    .dataframe tbody tr th:only-of-type {\n",
       "        vertical-align: middle;\n",
       "    }\n",
       "\n",
       "    .dataframe tbody tr th {\n",
       "        vertical-align: top;\n",
       "    }\n",
       "\n",
       "    .dataframe thead th {\n",
       "        text-align: right;\n",
       "    }\n",
       "</style>\n",
       "<table border=\"1\" class=\"dataframe\">\n",
       "  <thead>\n",
       "    <tr style=\"text-align: right;\">\n",
       "      <th></th>\n",
       "      <th>Pregnancies</th>\n",
       "      <th>Glucose</th>\n",
       "      <th>BloodPressure</th>\n",
       "      <th>SkinThickness</th>\n",
       "      <th>Insulin</th>\n",
       "      <th>BMI</th>\n",
       "      <th>DiabetesPedigreeFunction</th>\n",
       "      <th>Age</th>\n",
       "      <th>Outcome</th>\n",
       "    </tr>\n",
       "  </thead>\n",
       "  <tbody>\n",
       "    <tr>\n",
       "      <th>0</th>\n",
       "      <td>6</td>\n",
       "      <td>148</td>\n",
       "      <td>72</td>\n",
       "      <td>35</td>\n",
       "      <td>0</td>\n",
       "      <td>33.6</td>\n",
       "      <td>0.627</td>\n",
       "      <td>50</td>\n",
       "      <td>1</td>\n",
       "    </tr>\n",
       "    <tr>\n",
       "      <th>1</th>\n",
       "      <td>1</td>\n",
       "      <td>85</td>\n",
       "      <td>66</td>\n",
       "      <td>29</td>\n",
       "      <td>0</td>\n",
       "      <td>26.6</td>\n",
       "      <td>0.351</td>\n",
       "      <td>31</td>\n",
       "      <td>0</td>\n",
       "    </tr>\n",
       "    <tr>\n",
       "      <th>2</th>\n",
       "      <td>8</td>\n",
       "      <td>183</td>\n",
       "      <td>64</td>\n",
       "      <td>0</td>\n",
       "      <td>0</td>\n",
       "      <td>23.3</td>\n",
       "      <td>0.672</td>\n",
       "      <td>32</td>\n",
       "      <td>1</td>\n",
       "    </tr>\n",
       "    <tr>\n",
       "      <th>3</th>\n",
       "      <td>1</td>\n",
       "      <td>89</td>\n",
       "      <td>66</td>\n",
       "      <td>23</td>\n",
       "      <td>94</td>\n",
       "      <td>28.1</td>\n",
       "      <td>0.167</td>\n",
       "      <td>21</td>\n",
       "      <td>0</td>\n",
       "    </tr>\n",
       "    <tr>\n",
       "      <th>4</th>\n",
       "      <td>0</td>\n",
       "      <td>137</td>\n",
       "      <td>40</td>\n",
       "      <td>35</td>\n",
       "      <td>168</td>\n",
       "      <td>43.1</td>\n",
       "      <td>2.288</td>\n",
       "      <td>33</td>\n",
       "      <td>1</td>\n",
       "    </tr>\n",
       "  </tbody>\n",
       "</table>\n",
       "</div>"
      ],
      "text/plain": [
       "   Pregnancies  Glucose  BloodPressure  SkinThickness  Insulin   BMI  \\\n",
       "0            6      148             72             35        0  33.6   \n",
       "1            1       85             66             29        0  26.6   \n",
       "2            8      183             64              0        0  23.3   \n",
       "3            1       89             66             23       94  28.1   \n",
       "4            0      137             40             35      168  43.1   \n",
       "\n",
       "   DiabetesPedigreeFunction  Age  Outcome  \n",
       "0                     0.627   50        1  \n",
       "1                     0.351   31        0  \n",
       "2                     0.672   32        1  \n",
       "3                     0.167   21        0  \n",
       "4                     2.288   33        1  "
      ]
     },
     "execution_count": 2,
     "metadata": {},
     "output_type": "execute_result"
    }
   ],
   "source": [
    "dataset = pd.read_csv(\"diabetes.csv\")\n",
    "dataset.head()"
   ]
  },
  {
   "cell_type": "code",
   "execution_count": 3,
   "id": "41546c36",
   "metadata": {
    "execution": {
     "iopub.execute_input": "2022-10-21T15:37:11.345145Z",
     "iopub.status.busy": "2022-10-21T15:37:11.344680Z",
     "iopub.status.idle": "2022-10-21T15:37:11.383824Z",
     "shell.execute_reply": "2022-10-21T15:37:11.382881Z"
    },
    "papermill": {
     "duration": 0.047691,
     "end_time": "2022-10-21T15:37:11.386270",
     "exception": false,
     "start_time": "2022-10-21T15:37:11.338579",
     "status": "completed"
    },
    "tags": []
   },
   "outputs": [
    {
     "data": {
      "text/html": [
       "<div>\n",
       "<style scoped>\n",
       "    .dataframe tbody tr th:only-of-type {\n",
       "        vertical-align: middle;\n",
       "    }\n",
       "\n",
       "    .dataframe tbody tr th {\n",
       "        vertical-align: top;\n",
       "    }\n",
       "\n",
       "    .dataframe thead th {\n",
       "        text-align: right;\n",
       "    }\n",
       "</style>\n",
       "<table border=\"1\" class=\"dataframe\">\n",
       "  <thead>\n",
       "    <tr style=\"text-align: right;\">\n",
       "      <th></th>\n",
       "      <th>Pregnancies</th>\n",
       "      <th>Glucose</th>\n",
       "      <th>BloodPressure</th>\n",
       "      <th>SkinThickness</th>\n",
       "      <th>Insulin</th>\n",
       "      <th>BMI</th>\n",
       "      <th>DiabetesPedigreeFunction</th>\n",
       "      <th>Age</th>\n",
       "      <th>Outcome</th>\n",
       "    </tr>\n",
       "  </thead>\n",
       "  <tbody>\n",
       "    <tr>\n",
       "      <th>count</th>\n",
       "      <td>768.000000</td>\n",
       "      <td>768.000000</td>\n",
       "      <td>768.000000</td>\n",
       "      <td>768.000000</td>\n",
       "      <td>768.000000</td>\n",
       "      <td>768.000000</td>\n",
       "      <td>768.000000</td>\n",
       "      <td>768.000000</td>\n",
       "      <td>768.000000</td>\n",
       "    </tr>\n",
       "    <tr>\n",
       "      <th>mean</th>\n",
       "      <td>3.845052</td>\n",
       "      <td>120.894531</td>\n",
       "      <td>69.105469</td>\n",
       "      <td>20.536458</td>\n",
       "      <td>79.799479</td>\n",
       "      <td>31.992578</td>\n",
       "      <td>0.471876</td>\n",
       "      <td>33.240885</td>\n",
       "      <td>0.348958</td>\n",
       "    </tr>\n",
       "    <tr>\n",
       "      <th>std</th>\n",
       "      <td>3.369578</td>\n",
       "      <td>31.972618</td>\n",
       "      <td>19.355807</td>\n",
       "      <td>15.952218</td>\n",
       "      <td>115.244002</td>\n",
       "      <td>7.884160</td>\n",
       "      <td>0.331329</td>\n",
       "      <td>11.760232</td>\n",
       "      <td>0.476951</td>\n",
       "    </tr>\n",
       "    <tr>\n",
       "      <th>min</th>\n",
       "      <td>0.000000</td>\n",
       "      <td>0.000000</td>\n",
       "      <td>0.000000</td>\n",
       "      <td>0.000000</td>\n",
       "      <td>0.000000</td>\n",
       "      <td>0.000000</td>\n",
       "      <td>0.078000</td>\n",
       "      <td>21.000000</td>\n",
       "      <td>0.000000</td>\n",
       "    </tr>\n",
       "    <tr>\n",
       "      <th>25%</th>\n",
       "      <td>1.000000</td>\n",
       "      <td>99.000000</td>\n",
       "      <td>62.000000</td>\n",
       "      <td>0.000000</td>\n",
       "      <td>0.000000</td>\n",
       "      <td>27.300000</td>\n",
       "      <td>0.243750</td>\n",
       "      <td>24.000000</td>\n",
       "      <td>0.000000</td>\n",
       "    </tr>\n",
       "    <tr>\n",
       "      <th>50%</th>\n",
       "      <td>3.000000</td>\n",
       "      <td>117.000000</td>\n",
       "      <td>72.000000</td>\n",
       "      <td>23.000000</td>\n",
       "      <td>30.500000</td>\n",
       "      <td>32.000000</td>\n",
       "      <td>0.372500</td>\n",
       "      <td>29.000000</td>\n",
       "      <td>0.000000</td>\n",
       "    </tr>\n",
       "    <tr>\n",
       "      <th>75%</th>\n",
       "      <td>6.000000</td>\n",
       "      <td>140.250000</td>\n",
       "      <td>80.000000</td>\n",
       "      <td>32.000000</td>\n",
       "      <td>127.250000</td>\n",
       "      <td>36.600000</td>\n",
       "      <td>0.626250</td>\n",
       "      <td>41.000000</td>\n",
       "      <td>1.000000</td>\n",
       "    </tr>\n",
       "    <tr>\n",
       "      <th>max</th>\n",
       "      <td>17.000000</td>\n",
       "      <td>199.000000</td>\n",
       "      <td>122.000000</td>\n",
       "      <td>99.000000</td>\n",
       "      <td>846.000000</td>\n",
       "      <td>67.100000</td>\n",
       "      <td>2.420000</td>\n",
       "      <td>81.000000</td>\n",
       "      <td>1.000000</td>\n",
       "    </tr>\n",
       "  </tbody>\n",
       "</table>\n",
       "</div>"
      ],
      "text/plain": [
       "       Pregnancies     Glucose  BloodPressure  SkinThickness     Insulin  \\\n",
       "count   768.000000  768.000000     768.000000     768.000000  768.000000   \n",
       "mean      3.845052  120.894531      69.105469      20.536458   79.799479   \n",
       "std       3.369578   31.972618      19.355807      15.952218  115.244002   \n",
       "min       0.000000    0.000000       0.000000       0.000000    0.000000   \n",
       "25%       1.000000   99.000000      62.000000       0.000000    0.000000   \n",
       "50%       3.000000  117.000000      72.000000      23.000000   30.500000   \n",
       "75%       6.000000  140.250000      80.000000      32.000000  127.250000   \n",
       "max      17.000000  199.000000     122.000000      99.000000  846.000000   \n",
       "\n",
       "              BMI  DiabetesPedigreeFunction         Age     Outcome  \n",
       "count  768.000000                768.000000  768.000000  768.000000  \n",
       "mean    31.992578                  0.471876   33.240885    0.348958  \n",
       "std      7.884160                  0.331329   11.760232    0.476951  \n",
       "min      0.000000                  0.078000   21.000000    0.000000  \n",
       "25%     27.300000                  0.243750   24.000000    0.000000  \n",
       "50%     32.000000                  0.372500   29.000000    0.000000  \n",
       "75%     36.600000                  0.626250   41.000000    1.000000  \n",
       "max     67.100000                  2.420000   81.000000    1.000000  "
      ]
     },
     "execution_count": 3,
     "metadata": {},
     "output_type": "execute_result"
    }
   ],
   "source": [
    "dataset.describe()"
   ]
  },
  {
   "cell_type": "markdown",
   "id": "70adf827",
   "metadata": {
    "papermill": {
     "duration": 0.005761,
     "end_time": "2022-10-21T15:37:11.419508",
     "exception": false,
     "start_time": "2022-10-21T15:37:11.413747",
     "status": "completed"
    },
    "tags": []
   },
   "source": [
    "## Data Cleaning"
   ]
  },
  {
   "cell_type": "code",
   "execution_count": 4,
   "id": "7a8d0911",
   "metadata": {
    "execution": {
     "iopub.execute_input": "2022-10-21T15:37:11.432668Z",
     "iopub.status.busy": "2022-10-21T15:37:11.432359Z",
     "iopub.status.idle": "2022-10-21T15:37:11.440301Z",
     "shell.execute_reply": "2022-10-21T15:37:11.439373Z"
    },
    "papermill": {
     "duration": 0.016745,
     "end_time": "2022-10-21T15:37:11.442185",
     "exception": false,
     "start_time": "2022-10-21T15:37:11.425440",
     "status": "completed"
    },
    "tags": []
   },
   "outputs": [
    {
     "data": {
      "text/plain": [
       "Pregnancies                 0\n",
       "Glucose                     0\n",
       "BloodPressure               0\n",
       "SkinThickness               0\n",
       "Insulin                     0\n",
       "BMI                         0\n",
       "DiabetesPedigreeFunction    0\n",
       "Age                         0\n",
       "Outcome                     0\n",
       "dtype: int64"
      ]
     },
     "execution_count": 4,
     "metadata": {},
     "output_type": "execute_result"
    }
   ],
   "source": [
    "dataset.isnull().sum()"
   ]
  },
  {
   "cell_type": "code",
   "execution_count": 5,
   "id": "0c19f62f",
   "metadata": {
    "execution": {
     "iopub.execute_input": "2022-10-21T15:37:11.456199Z",
     "iopub.status.busy": "2022-10-21T15:37:11.455836Z",
     "iopub.status.idle": "2022-10-21T15:37:11.466391Z",
     "shell.execute_reply": "2022-10-21T15:37:11.464727Z"
    },
    "papermill": {
     "duration": 0.020349,
     "end_time": "2022-10-21T15:37:11.469029",
     "exception": false,
     "start_time": "2022-10-21T15:37:11.448680",
     "status": "completed"
    },
    "tags": []
   },
   "outputs": [
    {
     "data": {
      "text/plain": [
       "(768, 9)"
      ]
     },
     "execution_count": 5,
     "metadata": {},
     "output_type": "execute_result"
    }
   ],
   "source": [
    "dataset.duplicated().sum()\n",
    "dataset.shape"
   ]
  },
  {
   "cell_type": "code",
   "execution_count": 6,
   "id": "4f8205d1",
   "metadata": {
    "execution": {
     "iopub.execute_input": "2022-10-21T15:37:11.483389Z",
     "iopub.status.busy": "2022-10-21T15:37:11.483095Z",
     "iopub.status.idle": "2022-10-21T15:37:11.498028Z",
     "shell.execute_reply": "2022-10-21T15:37:11.496875Z"
    },
    "papermill": {
     "duration": 0.024924,
     "end_time": "2022-10-21T15:37:11.500186",
     "exception": false,
     "start_time": "2022-10-21T15:37:11.475262",
     "status": "completed"
    },
    "tags": []
   },
   "outputs": [
    {
     "name": "stdout",
     "output_type": "stream",
     "text": [
      "<class 'pandas.core.frame.DataFrame'>\n",
      "RangeIndex: 768 entries, 0 to 767\n",
      "Data columns (total 9 columns):\n",
      " #   Column                    Non-Null Count  Dtype  \n",
      "---  ------                    --------------  -----  \n",
      " 0   Pregnancies               768 non-null    int64  \n",
      " 1   Glucose                   768 non-null    int64  \n",
      " 2   BloodPressure             768 non-null    int64  \n",
      " 3   SkinThickness             768 non-null    int64  \n",
      " 4   Insulin                   768 non-null    int64  \n",
      " 5   BMI                       768 non-null    float64\n",
      " 6   DiabetesPedigreeFunction  768 non-null    float64\n",
      " 7   Age                       768 non-null    int64  \n",
      " 8   Outcome                   768 non-null    int64  \n",
      "dtypes: float64(2), int64(7)\n",
      "memory usage: 54.1 KB\n"
     ]
    }
   ],
   "source": [
    "dataset.info()"
   ]
  },
  {
   "cell_type": "markdown",
   "id": "5a59ca73",
   "metadata": {
    "papermill": {
     "duration": 0.005462,
     "end_time": "2022-10-21T15:37:11.511666",
     "exception": false,
     "start_time": "2022-10-21T15:37:11.506204",
     "status": "completed"
    },
    "tags": []
   },
   "source": [
    "## Set Independent and Dependent Values"
   ]
  },
  {
   "cell_type": "code",
   "execution_count": 23,
   "id": "f3dcffd9",
   "metadata": {
    "execution": {
     "iopub.execute_input": "2022-10-21T15:37:11.524703Z",
     "iopub.status.busy": "2022-10-21T15:37:11.524078Z",
     "iopub.status.idle": "2022-10-21T15:37:11.529457Z",
     "shell.execute_reply": "2022-10-21T15:37:11.528859Z"
    },
    "papermill": {
     "duration": 0.013714,
     "end_time": "2022-10-21T15:37:11.531007",
     "exception": false,
     "start_time": "2022-10-21T15:37:11.517293",
     "status": "completed"
    },
    "tags": []
   },
   "outputs": [
    {
     "data": {
      "text/plain": [
       "{'Age',\n",
       " 'BMI',\n",
       " 'BloodPressure',\n",
       " 'DiabetesPedigreeFunction',\n",
       " 'Glucose',\n",
       " 'Insulin',\n",
       " 'Pregnancies',\n",
       " 'SkinThickness'}"
      ]
     },
     "execution_count": 23,
     "metadata": {},
     "output_type": "execute_result"
    }
   ],
   "source": [
    "selected_features = {'Pregnancies', 'Glucose', 'BloodPressure', 'SkinThickness', 'Insulin', 'BMI', 'DiabetesPedigreeFunction', 'Age'}\n",
    "selected_features"
   ]
  },
  {
   "cell_type": "code",
   "execution_count": 37,
   "id": "1d2fa31d",
   "metadata": {},
   "outputs": [],
   "source": [
    "X = dataset[list(selected_features)]\n",
    "y = dataset['Outcome'] # Targeted Values Selection"
   ]
  },
  {
   "attachments": {},
   "cell_type": "markdown",
   "id": "14aab07b",
   "metadata": {},
   "source": [
    "## Normalisasi"
   ]
  },
  {
   "cell_type": "code",
   "execution_count": 40,
   "id": "93906cb9",
   "metadata": {},
   "outputs": [
    {
     "data": {
      "text/plain": [
       "' pt = PowerTransformer()\\nresult = pt.fit_transform(data)\\ndata = pd.dataFrame(data=result, columns=data.columns)\\ndata.hist(figsize=(8,8)); '"
      ]
     },
     "execution_count": 40,
     "metadata": {},
     "output_type": "execute_result"
    },
    {
     "data": {
      "image/png": "[encoded data removed]",
      "text/plain": [
       "<Figure size 800x800 with 9 Axes>"
      ]
     },
     "metadata": {},
     "output_type": "display_data"
    }
   ],
   "source": [
    "# Min-Max Normalization\n",
    "# Min-Max = (x-min) / (max-min)\n",
    "mms = MinMaxScaler()\n",
    "result = mms.fit_transform(X)\n",
    "data = pd.DataFrame(data=result, columns=X.columns)\n",
    "data.hist(figsize=(8,8));\n",
    "\n",
    "# Power Transform\n",
    "\"\"\" pt = PowerTransformer()\n",
    "result = pt.fit_transform(data)\n",
    "data = pd.dataFrame(data=result, columns=data.columns)\n",
    "data.hist(figsize=(8,8)); \"\"\""
   ]
  },
  {
   "cell_type": "code",
   "execution_count": 42,
   "id": "4e17b21f",
   "metadata": {},
   "outputs": [
    {
     "data": {
      "text/html": [
       "<div>\n",
       "<style scoped>\n",
       "    .dataframe tbody tr th:only-of-type {\n",
       "        vertical-align: middle;\n",
       "    }\n",
       "\n",
       "    .dataframe tbody tr th {\n",
       "        vertical-align: top;\n",
       "    }\n",
       "\n",
       "    .dataframe thead th {\n",
       "        text-align: right;\n",
       "    }\n",
       "</style>\n",
       "<table border=\"1\" class=\"dataframe\">\n",
       "  <thead>\n",
       "    <tr style=\"text-align: right;\">\n",
       "      <th></th>\n",
       "      <th>SkinThickness</th>\n",
       "      <th>Insulin</th>\n",
       "      <th>BMI</th>\n",
       "      <th>BloodPressure</th>\n",
       "      <th>Age</th>\n",
       "      <th>Pregnancies</th>\n",
       "      <th>Glucose</th>\n",
       "      <th>DiabetesPedigreeFunction</th>\n",
       "    </tr>\n",
       "  </thead>\n",
       "  <tbody>\n",
       "    <tr>\n",
       "      <th>0</th>\n",
       "      <td>0.353535</td>\n",
       "      <td>0.000000</td>\n",
       "      <td>0.500745</td>\n",
       "      <td>0.590164</td>\n",
       "      <td>0.483333</td>\n",
       "      <td>0.352941</td>\n",
       "      <td>0.743719</td>\n",
       "      <td>0.234415</td>\n",
       "    </tr>\n",
       "    <tr>\n",
       "      <th>1</th>\n",
       "      <td>0.292929</td>\n",
       "      <td>0.000000</td>\n",
       "      <td>0.396423</td>\n",
       "      <td>0.540984</td>\n",
       "      <td>0.166667</td>\n",
       "      <td>0.058824</td>\n",
       "      <td>0.427136</td>\n",
       "      <td>0.116567</td>\n",
       "    </tr>\n",
       "    <tr>\n",
       "      <th>2</th>\n",
       "      <td>0.000000</td>\n",
       "      <td>0.000000</td>\n",
       "      <td>0.347243</td>\n",
       "      <td>0.524590</td>\n",
       "      <td>0.183333</td>\n",
       "      <td>0.470588</td>\n",
       "      <td>0.919598</td>\n",
       "      <td>0.253629</td>\n",
       "    </tr>\n",
       "    <tr>\n",
       "      <th>3</th>\n",
       "      <td>0.232323</td>\n",
       "      <td>0.111111</td>\n",
       "      <td>0.418778</td>\n",
       "      <td>0.540984</td>\n",
       "      <td>0.000000</td>\n",
       "      <td>0.058824</td>\n",
       "      <td>0.447236</td>\n",
       "      <td>0.038002</td>\n",
       "    </tr>\n",
       "    <tr>\n",
       "      <th>4</th>\n",
       "      <td>0.353535</td>\n",
       "      <td>0.198582</td>\n",
       "      <td>0.642325</td>\n",
       "      <td>0.327869</td>\n",
       "      <td>0.200000</td>\n",
       "      <td>0.000000</td>\n",
       "      <td>0.688442</td>\n",
       "      <td>0.943638</td>\n",
       "    </tr>\n",
       "    <tr>\n",
       "      <th>...</th>\n",
       "      <td>...</td>\n",
       "      <td>...</td>\n",
       "      <td>...</td>\n",
       "      <td>...</td>\n",
       "      <td>...</td>\n",
       "      <td>...</td>\n",
       "      <td>...</td>\n",
       "      <td>...</td>\n",
       "    </tr>\n",
       "    <tr>\n",
       "      <th>763</th>\n",
       "      <td>0.484848</td>\n",
       "      <td>0.212766</td>\n",
       "      <td>0.490313</td>\n",
       "      <td>0.622951</td>\n",
       "      <td>0.700000</td>\n",
       "      <td>0.588235</td>\n",
       "      <td>0.507538</td>\n",
       "      <td>0.039710</td>\n",
       "    </tr>\n",
       "    <tr>\n",
       "      <th>764</th>\n",
       "      <td>0.272727</td>\n",
       "      <td>0.000000</td>\n",
       "      <td>0.548435</td>\n",
       "      <td>0.573770</td>\n",
       "      <td>0.100000</td>\n",
       "      <td>0.117647</td>\n",
       "      <td>0.613065</td>\n",
       "      <td>0.111870</td>\n",
       "    </tr>\n",
       "    <tr>\n",
       "      <th>765</th>\n",
       "      <td>0.232323</td>\n",
       "      <td>0.132388</td>\n",
       "      <td>0.390462</td>\n",
       "      <td>0.590164</td>\n",
       "      <td>0.150000</td>\n",
       "      <td>0.294118</td>\n",
       "      <td>0.608040</td>\n",
       "      <td>0.071307</td>\n",
       "    </tr>\n",
       "    <tr>\n",
       "      <th>766</th>\n",
       "      <td>0.000000</td>\n",
       "      <td>0.000000</td>\n",
       "      <td>0.448584</td>\n",
       "      <td>0.491803</td>\n",
       "      <td>0.433333</td>\n",
       "      <td>0.058824</td>\n",
       "      <td>0.633166</td>\n",
       "      <td>0.115713</td>\n",
       "    </tr>\n",
       "    <tr>\n",
       "      <th>767</th>\n",
       "      <td>0.313131</td>\n",
       "      <td>0.000000</td>\n",
       "      <td>0.453055</td>\n",
       "      <td>0.573770</td>\n",
       "      <td>0.033333</td>\n",
       "      <td>0.058824</td>\n",
       "      <td>0.467337</td>\n",
       "      <td>0.101196</td>\n",
       "    </tr>\n",
       "  </tbody>\n",
       "</table>\n",
       "<p>768 rows × 8 columns</p>\n",
       "</div>"
      ],
      "text/plain": [
       "     SkinThickness   Insulin       BMI  BloodPressure       Age  Pregnancies  \\\n",
       "0         0.353535  0.000000  0.500745       0.590164  0.483333     0.352941   \n",
       "1         0.292929  0.000000  0.396423       0.540984  0.166667     0.058824   \n",
       "2         0.000000  0.000000  0.347243       0.524590  0.183333     0.470588   \n",
       "3         0.232323  0.111111  0.418778       0.540984  0.000000     0.058824   \n",
       "4         0.353535  0.198582  0.642325       0.327869  0.200000     0.000000   \n",
       "..             ...       ...       ...            ...       ...          ...   \n",
       "763       0.484848  0.212766  0.490313       0.622951  0.700000     0.588235   \n",
       "764       0.272727  0.000000  0.548435       0.573770  0.100000     0.117647   \n",
       "765       0.232323  0.132388  0.390462       0.590164  0.150000     0.294118   \n",
       "766       0.000000  0.000000  0.448584       0.491803  0.433333     0.058824   \n",
       "767       0.313131  0.000000  0.453055       0.573770  0.033333     0.058824   \n",
       "\n",
       "      Glucose  DiabetesPedigreeFunction  \n",
       "0    0.743719                  0.234415  \n",
       "1    0.427136                  0.116567  \n",
       "2    0.919598                  0.253629  \n",
       "3    0.447236                  0.038002  \n",
       "4    0.688442                  0.943638  \n",
       "..        ...                       ...  \n",
       "763  0.507538                  0.039710  \n",
       "764  0.613065                  0.111870  \n",
       "765  0.608040                  0.071307  \n",
       "766  0.633166                  0.115713  \n",
       "767  0.467337                  0.101196  \n",
       "\n",
       "[768 rows x 8 columns]"
      ]
     },
     "execution_count": 42,
     "metadata": {},
     "output_type": "execute_result"
    }
   ],
   "source": [
    "data.to_csv(r'data_normalisasi.csv', index = False, header = True, index_label=None)\n",
    "data"
   ]
  },
  {
   "cell_type": "markdown",
   "id": "336e0616",
   "metadata": {
    "papermill": {
     "duration": 0.005813,
     "end_time": "2022-10-21T15:37:11.561975",
     "exception": false,
     "start_time": "2022-10-21T15:37:11.556162",
     "status": "completed"
    },
    "tags": []
   },
   "source": [
    "## Splitting the dataset into the Training set and Test set"
   ]
  },
  {
   "cell_type": "code",
   "execution_count": 43,
   "id": "43b8d307",
   "metadata": {
    "execution": {
     "iopub.execute_input": "2022-10-21T15:37:11.575479Z",
     "iopub.status.busy": "2022-10-21T15:37:11.575048Z",
     "iopub.status.idle": "2022-10-21T15:37:11.580364Z",
     "shell.execute_reply": "2022-10-21T15:37:11.579756Z"
    },
    "papermill": {
     "duration": 0.014091,
     "end_time": "2022-10-21T15:37:11.582049",
     "exception": false,
     "start_time": "2022-10-21T15:37:11.567958",
     "status": "completed"
    },
    "tags": []
   },
   "outputs": [],
   "source": [
    "X_train, X_test, y_train, y_test = train_test_split(X, y, test_size=0.3, random_state=101)"
   ]
  },
  {
   "cell_type": "markdown",
   "id": "57832f91",
   "metadata": {
    "papermill": {
     "duration": 0.006619,
     "end_time": "2022-10-21T15:37:11.594806",
     "exception": false,
     "start_time": "2022-10-21T15:37:11.588187",
     "status": "completed"
    },
    "tags": []
   },
   "source": [
    "## Feature Scaling"
   ]
  },
  {
   "cell_type": "code",
   "execution_count": 44,
   "id": "df59e569",
   "metadata": {
    "execution": {
     "iopub.execute_input": "2022-10-21T15:37:11.609095Z",
     "iopub.status.busy": "2022-10-21T15:37:11.608746Z",
     "iopub.status.idle": "2022-10-21T15:37:11.617245Z",
     "shell.execute_reply": "2022-10-21T15:37:11.616350Z"
    },
    "papermill": {
     "duration": 0.017998,
     "end_time": "2022-10-21T15:37:11.619170",
     "exception": false,
     "start_time": "2022-10-21T15:37:11.601172",
     "status": "completed"
    },
    "tags": []
   },
   "outputs": [],
   "source": [
    "X_train = mms.fit_transform(X_train)\n",
    "X_test = mms.transform(X_test)"
   ]
  },
  {
   "cell_type": "markdown",
   "id": "87b665d6",
   "metadata": {
    "papermill": {
     "duration": 0.005679,
     "end_time": "2022-10-21T15:37:11.631033",
     "exception": false,
     "start_time": "2022-10-21T15:37:11.625354",
     "status": "completed"
    },
    "tags": []
   },
   "source": [
    "## Create Model LVQ"
   ]
  },
  {
   "cell_type": "code",
   "execution_count": 45,
   "id": "91903319",
   "metadata": {
    "execution": {
     "iopub.execute_input": "2022-10-21T15:37:11.645795Z",
     "iopub.status.busy": "2022-10-21T15:37:11.645493Z",
     "iopub.status.idle": "2022-10-21T15:37:11.650297Z",
     "shell.execute_reply": "2022-10-21T15:37:11.649166Z"
    },
    "papermill": {
     "duration": 0.013894,
     "end_time": "2022-10-21T15:37:11.651794",
     "exception": false,
     "start_time": "2022-10-21T15:37:11.637900",
     "status": "completed"
    },
    "tags": []
   },
   "outputs": [],
   "source": [
    "X_train = np.array(X_train)\n",
    "X_test = np.array(X_test)\n",
    "y_train = np.array(y_train)\n",
    "y_test = np.array(y_test)"
   ]
  },
  {
   "cell_type": "code",
   "execution_count": 46,
   "id": "564bcf24",
   "metadata": {
    "execution": {
     "iopub.execute_input": "2022-10-21T15:37:11.668319Z",
     "iopub.status.busy": "2022-10-21T15:37:11.667959Z",
     "iopub.status.idle": "2022-10-21T15:37:11.673441Z",
     "shell.execute_reply": "2022-10-21T15:37:11.672853Z"
    },
    "papermill": {
     "duration": 0.015978,
     "end_time": "2022-10-21T15:37:11.675215",
     "exception": false,
     "start_time": "2022-10-21T15:37:11.659237",
     "status": "completed"
    },
    "tags": []
   },
   "outputs": [
    {
     "name": "stdout",
     "output_type": "stream",
     "text": [
      "Input Neuron: 8\n",
      "Output Neuron: 2\n"
     ]
    }
   ],
   "source": [
    "n_input = X_train.shape[1]\n",
    "n_output = len(np.unique(y_train))\n",
    "\n",
    "print('Input Neuron:', n_input)\n",
    "print('Output Neuron:', n_output)"
   ]
  },
  {
   "attachments": {},
   "cell_type": "markdown",
   "id": "effaedac",
   "metadata": {},
   "source": [
    "## Classification"
   ]
  },
  {
   "cell_type": "code",
   "execution_count": 47,
   "id": "7151fccd",
   "metadata": {
    "execution": {
     "iopub.execute_input": "2022-10-21T15:37:11.690268Z",
     "iopub.status.busy": "2022-10-21T15:37:11.689279Z",
     "iopub.status.idle": "2022-10-21T15:37:11.702497Z",
     "shell.execute_reply": "2022-10-21T15:37:11.701850Z"
    },
    "papermill": {
     "duration": 0.021816,
     "end_time": "2022-10-21T15:37:11.704018",
     "exception": false,
     "start_time": "2022-10-21T15:37:11.682202",
     "status": "completed"
    },
    "tags": []
   },
   "outputs": [],
   "source": [
    "class LVQ(object):\n",
    "\n",
    "    def __init__(self, sizeInput, sizeOutput, max_epoch, learning_rate, fungsi_pembelajaran):\n",
    "        \"\"\"\n",
    "        Inisialisasi class (constructor)\n",
    "        :param sizeInput (int): Banyaknya input neuron sesuai dengan banyaknya parameter (fitur pada data latih)\n",
    "        :param sizeOutput (int): Banyaknya output neuron sesuai dengan banyaknya label (kelas pada data latih)\n",
    "        :param max_epoch (int): Maksimal epoch yang diizinkan\n",
    "        :param alpha (float): learning rate\n",
    "        \"\"\"\n",
    "\n",
    "        self.sizeInput = sizeInput\n",
    "        self.sizeOutput = sizeOutput\n",
    "        self.max_epoch = max_epoch\n",
    "        self.alpha = learning_rate\n",
    "        self.fungsi_pembelajaran = fungsi_pembelajaran\n",
    "        self.weight = np.zeros((sizeOutput, sizeInput))\n",
    "\n",
    "    def getWeight(self):\n",
    "        \"\"\"\n",
    "        Mendapatkan bobot jaringan LVQ setelah proses training\n",
    "\n",
    "        :return: weight (nilai bobot)\n",
    "        \"\"\"\n",
    "\n",
    "        return self.weight\n",
    "\n",
    "    def getAlpha(self):\n",
    "        return self.alpha\n",
    "    \n",
    "    def train(self,train_data,train_target):\n",
    "        \"\"\"\n",
    "        Proses pelatihan jaringan LVQ\n",
    "        :param train_data (numpy array atau pandas dataframe): Matriks yang berisi data latih\n",
    "        :param train_target (numpy array atau pandas series): Array yang berisi label dari data latih\n",
    "        :return: bobot dan label dari bobot\n",
    "        \"\"\"\n",
    "        \n",
    "        weight_label, label_index = np.unique(train_target, True)\n",
    "        # print('weight label = ', weight_label)\n",
    "        # print('index label = ', label_index)\n",
    "        \n",
    "        # Inisialisasi bobot\n",
    "        self.weight = train_data[label_index].astype(np.float64)\n",
    "        print(\"Inisialisasi bobot:\",self.weight)\n",
    "        \n",
    "        # Hapus data yang digunakan untuk inisialisasi bobot\n",
    "        train_data = np.delete(train_data, label_index, axis=0)\n",
    "        train_target = np.delete(train_target, label_index, axis=0)\n",
    "        \n",
    "        epoch = 0\n",
    "        iterasi = 0\n",
    "        \n",
    "        while epoch <= self.max_epoch:\n",
    "            epoch += 1\n",
    "            # print('\\nEpoch', epoch)\n",
    "            for data, target in zip(train_data, train_target):\n",
    "                iterasi += 1\n",
    "                # print('Iterasi', iterasi)\n",
    "                distance = np.sqrt(np.sum((data - self.weight) ** 2, axis=1))\n",
    "                # print(\"Jarak:\", distance)\n",
    "                idx_min = np.argmin(distance)\n",
    "                # print(\"Jarak terkecil pada bobot ke\", idx_min)\n",
    "                \n",
    "                if target == weight_label[idx_min]:\n",
    "                    self.weight[idx_min] = self.weight[idx_min] + self.alpha * (data - self.weight[idx_min])\n",
    "                else:\n",
    "                    self.weight[idx_min] = self.weight[idx_min] - self.alpha * (data - self.weight[idx_min])\n",
    "        \n",
    "            self.alpha = self.alpha - (self.fungsi_pembelajaran * self.alpha)\n",
    "            \n",
    "        weight_class = (self.weight, weight_label)\n",
    "        return weight_class\n",
    "\n",
    "    def test(self, test_data, weight_class):\n",
    "        \"\"\"\n",
    "        Proses pengujian jaringan LVQ\n",
    "        :param test_data (numpy array atau pandas dataframe): Matriks yang berisi data uji\n",
    "        :param weight_class (tuple): Tuple yang berisi pasangan bobot dan labelnya\n",
    "        :return: Nilai prediksi label/class\n",
    "        \"\"\"\n",
    "\n",
    "        weight, label = weight_class\n",
    "        output = []\n",
    "        for data in test_data:\n",
    "            distance = np.sqrt(np.sum((data - self.weight) ** 2, axis=1))\n",
    "            idx_min = np.argmin(distance)\n",
    "            output.append(label[idx_min])\n",
    "        return output"
   ]
  },
  {
   "cell_type": "markdown",
   "id": "dbfb0ff2",
   "metadata": {
    "papermill": {
     "duration": 0.006078,
     "end_time": "2022-10-21T15:37:11.716461",
     "exception": false,
     "start_time": "2022-10-21T15:37:11.710383",
     "status": "completed"
    },
    "tags": []
   },
   "source": [
    "## Train Model LVQ"
   ]
  },
  {
   "cell_type": "code",
   "execution_count": 48,
   "id": "36564a93",
   "metadata": {
    "execution": {
     "iopub.execute_input": "2022-10-21T15:37:11.730986Z",
     "iopub.status.busy": "2022-10-21T15:37:11.729681Z",
     "iopub.status.idle": "2022-10-21T15:37:11.771812Z",
     "shell.execute_reply": "2022-10-21T15:37:11.770310Z"
    },
    "papermill": {
     "duration": 0.051168,
     "end_time": "2022-10-21T15:37:11.773681",
     "exception": false,
     "start_time": "2022-10-21T15:37:11.722513",
     "status": "completed"
    },
    "tags": []
   },
   "outputs": [
    {
     "name": "stdout",
     "output_type": "stream",
     "text": [
      "Inisialisasi bobot: [[0.27272727 0.02600473 0.44113264 0.63934426 0.37254902 0.29411765\n",
      "  0.63316583 0.17251462]\n",
      " [0.41414141 0.15248227 0.53353204 0.50819672 0.07843137 0.29411765\n",
      "  0.54773869 0.20906433]]\n",
      "Bobot Akhir:  [[0.19745046 0.0749006  0.42608334 0.54948918 0.11039297 0.14222597\n",
      "  0.49585067 0.14760672]\n",
      " [0.28470963 0.18301258 0.60303472 0.59129454 0.26525886 0.35616165\n",
      "  0.89768923 0.2990103 ]]\n",
      "Ukuran Bobot: (2, 8)\n"
     ]
    }
   ],
   "source": [
    "lvq = LVQ(sizeInput=n_input, sizeOutput=n_output, max_epoch=50, learning_rate=0.01, fungsi_pembelajaran=0.1)\n",
    "bobot_dan_label = lvq.train(X_train, y_train)\n",
    "bobot = lvq.getWeight()\n",
    "print('Bobot Akhir: ', bobot)\n",
    "print('Ukuran Bobot:', bobot.shape)"
   ]
  },
  {
   "attachments": {},
   "cell_type": "markdown",
   "id": "0579237e",
   "metadata": {},
   "source": [
    "## Model Evaluation"
   ]
  },
  {
   "cell_type": "code",
   "execution_count": 49,
   "id": "d4cc7825",
   "metadata": {
    "execution": {
     "iopub.execute_input": "2022-10-21T15:37:11.800732Z",
     "iopub.status.busy": "2022-10-21T15:37:11.800402Z",
     "iopub.status.idle": "2022-10-21T15:37:11.813092Z",
     "shell.execute_reply": "2022-10-21T15:37:11.811946Z"
    },
    "papermill": {
     "duration": 0.023958,
     "end_time": "2022-10-21T15:37:11.816419",
     "exception": false,
     "start_time": "2022-10-21T15:37:11.792461",
     "status": "completed"
    },
    "tags": []
   },
   "outputs": [
    {
     "name": "stdout",
     "output_type": "stream",
     "text": [
      "Accuracy: 0.7445887445887446\n"
     ]
    },
    {
     "data": {
      "text/plain": [
       "<AxesSubplot: >"
      ]
     },
     "execution_count": 49,
     "metadata": {},
     "output_type": "execute_result"
    },
    {
     "data": {
      "image/png": "[encoded data removed]",
      "text/plain": [
       "<Figure size 640x480 with 2 Axes>"
      ]
     },
     "metadata": {},
     "output_type": "display_data"
    }
   ],
   "source": [
    "y_pred = lvq.test(X_test, bobot_dan_label)\n",
    "print('Accuracy:', accuracy_score(y_test, y_pred))\n",
    "\n",
    "cf_matrix = confusion_matrix(y_test, y_pred)\n",
    "group_names = ['TP','FP','FN','TN']\n",
    "group_counts = [\"{0:0.0f}\".format(value) for value in\n",
    "cf_matrix.flatten()]\n",
    "group_percentages = [\"{0:.2%}\".format(value) for value in\n",
    "cf_matrix.flatten()/np.sum(cf_matrix)]\n",
    "labels = [f\"{v1}\\n{v2}\\n{v3}\" for v1, v2, v3 in\n",
    "zip(group_names,group_counts,group_percentages)]\n",
    "labels = np.asarray(labels).reshape(2,2)\n",
    "sns.heatmap(cf_matrix, annot=labels, fmt='', cmap='Blues')"
   ]
  },
  {
   "cell_type": "code",
   "execution_count": 50,
   "id": "07c18a85",
   "metadata": {},
   "outputs": [
    {
     "name": "stdout",
     "output_type": "stream",
     "text": [
      "              precision    recall  f1-score   support\n",
      "\n",
      "           0       0.80      0.81      0.81       150\n",
      "           1       0.64      0.62      0.63        81\n",
      "\n",
      "    accuracy                           0.74       231\n",
      "   macro avg       0.72      0.72      0.72       231\n",
      "weighted avg       0.74      0.74      0.74       231\n",
      "\n"
     ]
    }
   ],
   "source": [
    "print(classification_report(y_test, y_pred))"
   ]
  },
  {
   "attachments": {},
   "cell_type": "markdown",
   "id": "5ddf00b0",
   "metadata": {},
   "source": [
    "## Testing"
   ]
  },
  {
   "cell_type": "code",
   "execution_count": 51,
   "id": "ce45bf79",
   "metadata": {},
   "outputs": [
    {
     "data": {
      "text/html": [
       "<div>\n",
       "<style scoped>\n",
       "    .dataframe tbody tr th:only-of-type {\n",
       "        vertical-align: middle;\n",
       "    }\n",
       "\n",
       "    .dataframe tbody tr th {\n",
       "        vertical-align: top;\n",
       "    }\n",
       "\n",
       "    .dataframe thead th {\n",
       "        text-align: right;\n",
       "    }\n",
       "</style>\n",
       "<table border=\"1\" class=\"dataframe\">\n",
       "  <thead>\n",
       "    <tr style=\"text-align: right;\">\n",
       "      <th></th>\n",
       "      <th>SkinThickness</th>\n",
       "      <th>Insulin</th>\n",
       "      <th>BMI</th>\n",
       "      <th>BloodPressure</th>\n",
       "      <th>Age</th>\n",
       "      <th>Pregnancies</th>\n",
       "      <th>Glucose</th>\n",
       "      <th>DiabetesPedigreeFunction</th>\n",
       "      <th>Target</th>\n",
       "      <th>Hasil_prediksi</th>\n",
       "      <th>Keterangan</th>\n",
       "    </tr>\n",
       "  </thead>\n",
       "  <tbody>\n",
       "    <tr>\n",
       "      <th>766</th>\n",
       "      <td>0</td>\n",
       "      <td>0</td>\n",
       "      <td>30.1</td>\n",
       "      <td>60</td>\n",
       "      <td>47</td>\n",
       "      <td>1</td>\n",
       "      <td>126</td>\n",
       "      <td>0.349</td>\n",
       "      <td>1</td>\n",
       "      <td>0</td>\n",
       "      <td>Salah</td>\n",
       "    </tr>\n",
       "    <tr>\n",
       "      <th>748</th>\n",
       "      <td>22</td>\n",
       "      <td>200</td>\n",
       "      <td>36.4</td>\n",
       "      <td>70</td>\n",
       "      <td>36</td>\n",
       "      <td>3</td>\n",
       "      <td>187</td>\n",
       "      <td>0.408</td>\n",
       "      <td>1</td>\n",
       "      <td>1</td>\n",
       "      <td>Benar</td>\n",
       "    </tr>\n",
       "    <tr>\n",
       "      <th>42</th>\n",
       "      <td>18</td>\n",
       "      <td>0</td>\n",
       "      <td>22.7</td>\n",
       "      <td>92</td>\n",
       "      <td>48</td>\n",
       "      <td>7</td>\n",
       "      <td>106</td>\n",
       "      <td>0.235</td>\n",
       "      <td>0</td>\n",
       "      <td>0</td>\n",
       "      <td>Benar</td>\n",
       "    </tr>\n",
       "    <tr>\n",
       "      <th>485</th>\n",
       "      <td>42</td>\n",
       "      <td>250</td>\n",
       "      <td>42.3</td>\n",
       "      <td>68</td>\n",
       "      <td>24</td>\n",
       "      <td>0</td>\n",
       "      <td>135</td>\n",
       "      <td>0.365</td>\n",
       "      <td>1</td>\n",
       "      <td>0</td>\n",
       "      <td>Salah</td>\n",
       "    </tr>\n",
       "    <tr>\n",
       "      <th>543</th>\n",
       "      <td>23</td>\n",
       "      <td>56</td>\n",
       "      <td>39.5</td>\n",
       "      <td>90</td>\n",
       "      <td>25</td>\n",
       "      <td>4</td>\n",
       "      <td>84</td>\n",
       "      <td>0.159</td>\n",
       "      <td>0</td>\n",
       "      <td>0</td>\n",
       "      <td>Benar</td>\n",
       "    </tr>\n",
       "    <tr>\n",
       "      <th>...</th>\n",
       "      <td>...</td>\n",
       "      <td>...</td>\n",
       "      <td>...</td>\n",
       "      <td>...</td>\n",
       "      <td>...</td>\n",
       "      <td>...</td>\n",
       "      <td>...</td>\n",
       "      <td>...</td>\n",
       "      <td>...</td>\n",
       "      <td>...</td>\n",
       "      <td>...</td>\n",
       "    </tr>\n",
       "    <tr>\n",
       "      <th>188</th>\n",
       "      <td>39</td>\n",
       "      <td>114</td>\n",
       "      <td>27.9</td>\n",
       "      <td>76</td>\n",
       "      <td>31</td>\n",
       "      <td>8</td>\n",
       "      <td>109</td>\n",
       "      <td>0.640</td>\n",
       "      <td>1</td>\n",
       "      <td>0</td>\n",
       "      <td>Salah</td>\n",
       "    </tr>\n",
       "    <tr>\n",
       "      <th>8</th>\n",
       "      <td>45</td>\n",
       "      <td>543</td>\n",
       "      <td>30.5</td>\n",
       "      <td>70</td>\n",
       "      <td>53</td>\n",
       "      <td>2</td>\n",
       "      <td>197</td>\n",
       "      <td>0.158</td>\n",
       "      <td>1</td>\n",
       "      <td>1</td>\n",
       "      <td>Benar</td>\n",
       "    </tr>\n",
       "    <tr>\n",
       "      <th>645</th>\n",
       "      <td>35</td>\n",
       "      <td>440</td>\n",
       "      <td>39.4</td>\n",
       "      <td>74</td>\n",
       "      <td>30</td>\n",
       "      <td>2</td>\n",
       "      <td>157</td>\n",
       "      <td>0.134</td>\n",
       "      <td>0</td>\n",
       "      <td>1</td>\n",
       "      <td>Salah</td>\n",
       "    </tr>\n",
       "    <tr>\n",
       "      <th>381</th>\n",
       "      <td>22</td>\n",
       "      <td>0</td>\n",
       "      <td>20.0</td>\n",
       "      <td>68</td>\n",
       "      <td>22</td>\n",
       "      <td>0</td>\n",
       "      <td>105</td>\n",
       "      <td>0.236</td>\n",
       "      <td>0</td>\n",
       "      <td>0</td>\n",
       "      <td>Benar</td>\n",
       "    </tr>\n",
       "    <tr>\n",
       "      <th>314</th>\n",
       "      <td>31</td>\n",
       "      <td>0</td>\n",
       "      <td>35.9</td>\n",
       "      <td>80</td>\n",
       "      <td>43</td>\n",
       "      <td>7</td>\n",
       "      <td>109</td>\n",
       "      <td>1.127</td>\n",
       "      <td>1</td>\n",
       "      <td>1</td>\n",
       "      <td>Benar</td>\n",
       "    </tr>\n",
       "  </tbody>\n",
       "</table>\n",
       "<p>231 rows × 11 columns</p>\n",
       "</div>"
      ],
      "text/plain": [
       "     SkinThickness  Insulin   BMI  BloodPressure  Age  Pregnancies  Glucose  \\\n",
       "766              0        0  30.1             60   47            1      126   \n",
       "748             22      200  36.4             70   36            3      187   \n",
       "42              18        0  22.7             92   48            7      106   \n",
       "485             42      250  42.3             68   24            0      135   \n",
       "543             23       56  39.5             90   25            4       84   \n",
       "..             ...      ...   ...            ...  ...          ...      ...   \n",
       "188             39      114  27.9             76   31            8      109   \n",
       "8               45      543  30.5             70   53            2      197   \n",
       "645             35      440  39.4             74   30            2      157   \n",
       "381             22        0  20.0             68   22            0      105   \n",
       "314             31        0  35.9             80   43            7      109   \n",
       "\n",
       "     DiabetesPedigreeFunction  Target  Hasil_prediksi Keterangan  \n",
       "766                     0.349       1               0      Salah  \n",
       "748                     0.408       1               1      Benar  \n",
       "42                      0.235       0               0      Benar  \n",
       "485                     0.365       1               0      Salah  \n",
       "543                     0.159       0               0      Benar  \n",
       "..                        ...     ...             ...        ...  \n",
       "188                     0.640       1               0      Salah  \n",
       "8                       0.158       1               1      Benar  \n",
       "645                     0.134       0               1      Salah  \n",
       "381                     0.236       0               0      Benar  \n",
       "314                     1.127       1               1      Benar  \n",
       "\n",
       "[231 rows x 11 columns]"
      ]
     },
     "execution_count": 51,
     "metadata": {},
     "output_type": "execute_result"
    }
   ],
   "source": [
    "data_train, data_test = train_test_split(X,test_size=0.3, random_state=101)\n",
    "data_test['Target'] = y_test\n",
    "data_test['Hasil_prediksi'] = y_pred\n",
    "data_test['Keterangan'] = np.where(data_test['Target'] == data_test['Hasil_prediksi'], 'Benar', 'Salah')\n",
    "data_test.to_csv(r'dataTest_klasifikasi.csv', index = False, header = True, index_label=None)\n",
    "data_test"
   ]
  }
 ],
 "metadata": {
  "kernelspec": {
   "display_name": "Python 3",
   "language": "python",
   "name": "python3"
  },
  "language_info": {
   "codemirror_mode": {
    "name": "ipython",
    "version": 3
   },
   "file_extension": ".py",
   "mimetype": "text/x-python",
   "name": "python",
   "nbconvert_exporter": "python",
   "pygments_lexer": "ipython3",
   "version": "3.10.2"
  },
  "papermill": {
   "default_parameters": {},
   "duration": 9.165864,
   "end_time": "2022-10-21T15:37:12.609330",
   "environment_variables": {},
   "exception": null,
   "input_path": "__notebook__.ipynb",
   "output_path": "__notebook__.ipynb",
   "parameters": {},
   "start_time": "2022-10-21T15:37:03.443466",
   "version": "2.3.4"
  }
 },
 "nbformat": 4,
 "nbformat_minor": 5
}
